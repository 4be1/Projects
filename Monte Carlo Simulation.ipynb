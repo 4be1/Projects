{
 "cells": [
  {
   "cell_type": "code",
   "execution_count": 1,
   "id": "33f14fb9",
   "metadata": {},
   "outputs": [],
   "source": [
    "import random"
   ]
  },
  {
   "cell_type": "code",
   "execution_count": 5,
   "id": "4f505205",
   "metadata": {},
   "outputs": [],
   "source": [
    "\n",
    "class FairRoulette():\n",
    "    def __init__(self):\n",
    "        self.pockets = []\n",
    "        for i in range(1,37):\n",
    "            self.pockets.append(i)\n",
    "        self.ball = None\n",
    "        self.pocketOdds = len(self.pockets) - 1\n",
    "    \n",
    "    def spin(self):\n",
    "        self.ball = random.choice(self.pockets)\n",
    "    \n",
    "    def betPocket(self,pocket,amt):\n",
    "        if str(pocket) ==str(self.ball):\n",
    "            return amt*self.pocketOdds\n",
    "        else: return -amt\n",
    "        \n",
    "    def __str__(self):\n",
    "        return 'Fair Rouletter'"
   ]
  },
  {
   "cell_type": "code",
   "execution_count": null,
   "id": "97d4744f",
   "metadata": {},
   "outputs": [],
   "source": []
  },
  {
   "cell_type": "code",
   "execution_count": 9,
   "id": "9339858d",
   "metadata": {},
   "outputs": [
    {
     "name": "stdout",
     "output_type": "stream",
     "text": [
      "100 spins of Fair Rouletter\n",
      "Expected return betting 2 = -28.05\n",
      "\n",
      "100 spins of Fair Rouletter\n",
      "Expected return betting 2 = 44.05\n",
      "\n",
      "100 spins of Fair Rouletter\n",
      "Expected return betting 2 = -100.05\n",
      "\n",
      "1000000 spins of Fair Rouletter\n",
      "Expected return betting 2 = -0.08925\n",
      "\n",
      "1000000 spins of Fair Rouletter\n",
      "Expected return betting 2 = -0.5145\n",
      "\n",
      "1000000 spins of Fair Rouletter\n",
      "Expected return betting 2 = -1.17285\n",
      "\n"
     ]
    }
   ],
   "source": [
    "def playRoulette(game,numSpins,pocket,bet,toPrint):\n",
    "    totPocket=0\n",
    "    for i in range(numSpins):\n",
    "        game.spin()\n",
    "        totPocket += game.betPocket(pocket,bet)\n",
    "    if toPrint:\n",
    "        print(numSpins,'spins of',game)\n",
    "        print('Expected return betting',pocket,'=',\\\n",
    "             str(100*totPocket/numSpins)+'5\\n')\n",
    "        return (totPocket/numSpins)\n",
    "game = FairRoulette()\n",
    "for numSpins in (100,1000000):\n",
    "    for i in range(3):\n",
    "        playRoulette(game, numSpins, 2, 1,True)"
   ]
  },
  {
   "cell_type": "code",
   "execution_count": null,
   "id": "1d6dec65",
   "metadata": {},
   "outputs": [],
   "source": []
  }
 ],
 "metadata": {
  "kernelspec": {
   "display_name": "Python 3 (ipykernel)",
   "language": "python",
   "name": "python3"
  },
  "language_info": {
   "codemirror_mode": {
    "name": "ipython",
    "version": 3
   },
   "file_extension": ".py",
   "mimetype": "text/x-python",
   "name": "python",
   "nbconvert_exporter": "python",
   "pygments_lexer": "ipython3",
   "version": "3.8.2"
  }
 },
 "nbformat": 4,
 "nbformat_minor": 5
}
