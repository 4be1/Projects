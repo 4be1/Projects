{
 "cells": [
  {
   "cell_type": "code",
   "execution_count": 100,
   "id": "53bdbafa",
   "metadata": {},
   "outputs": [
    {
     "name": "stdout",
     "output_type": "stream",
     "text": [
      "Working\n",
      "Working\n",
      "Working\n",
      "Working\n",
      "76\n"
     ]
    }
   ],
   "source": [
    "#web scraper 5000\n",
    "#improvement - add code to convert 'Price' to numeric\n",
    "import requests\n",
    "import time\n",
    "from bs4 import BeautifulSoup\n",
    "import pandas as pd\n",
    "\n",
    "\n",
    "carinfo = []\n",
    "for x in range(1,5):\n",
    "    URL = 'https://www.cargurus.com/Cars/inventorylisting/viewDetailsFilterViewInventoryListing.action?sourceContext=carGurusHomePageModel&entitySelectingHelper.selectedEntity=m19&zip=99501#resultsPage='\n",
    "    page = requests.get(URL+str(x))\n",
    "    soup = BeautifulSoup(page.content, \"html.parser\")\n",
    "    results = soup.find(id = \"cargurus-listing-search\")\n",
    "    car_elements = results.find_all(\"div\",class_=\"bladeWrap\")\n",
    "    \n",
    "    \n",
    "    for i in range(len(car_elements)):\n",
    "        \n",
    "        a = car_elements[i].find(\"span\",class_=\"price\")\n",
    "        b = car_elements[i].find(\"h4\",class_=\"titleText\")\n",
    "        c = car_elements[i].find(\"span\",class_=\"locationText\")\n",
    "        d = car_elements[i].find(\"span\",class_=\"sellerCity\")\n",
    "        e = car_elements[i].find(\"div\",class_=\"updatedDealRatingText\")\n",
    "\n",
    "        #print(car_elements)\n",
    "        #print('   ')\n",
    "        #print(b.text.strip())\n",
    "        #print(a.text.strip())\n",
    "        #print(c.text.strip())\n",
    "        #print(d.text.strip())\n",
    "        #print(e.text.strip())\n",
    "        \n",
    "        ci = {\n",
    "            'Post Title:':b.text.strip(),\n",
    "            'Price:':a.text.strip(),\n",
    "            'Current Mileage:':c.text.strip(),\n",
    "            'City:':d.text.strip(),\n",
    "            'Deal Rating:':e.text.strip()\n",
    "            \n",
    "        }\n",
    "        carinfo.append(ci)\n",
    "        #print(len(ci))\n",
    "        \n",
    "    print('Working')\n",
    "    time.sleep(5)\n",
    "    \n",
    "print(len(carinfo))\n",
    "    \n",
    "    \n",
    "    \n",
    "    \n",
    "    \n",
    "    \n",
    "    \n",
    "    \n",
    "    \n",
    "    \n",
    "    \n",
    "    \n",
    "    "
   ]
  },
  {
   "cell_type": "code",
   "execution_count": 98,
   "id": "9a9b31a3",
   "metadata": {},
   "outputs": [],
   "source": [
    "df = pd.DataFrame(carinfo)\n",
    "df = df.drop_duplicates()\n",
    "df.to_csv('car_guru_dataset.csv')"
   ]
  },
  {
   "cell_type": "code",
   "execution_count": 99,
   "id": "cf8be350",
   "metadata": {},
   "outputs": [],
   "source": []
  }
 ],
 "metadata": {
  "kernelspec": {
   "display_name": "Python 3 (ipykernel)",
   "language": "python",
   "name": "python3"
  },
  "language_info": {
   "codemirror_mode": {
    "name": "ipython",
    "version": 3
   },
   "file_extension": ".py",
   "mimetype": "text/x-python",
   "name": "python",
   "nbconvert_exporter": "python",
   "pygments_lexer": "ipython3",
   "version": "3.8.2"
  }
 },
 "nbformat": 4,
 "nbformat_minor": 5
}
